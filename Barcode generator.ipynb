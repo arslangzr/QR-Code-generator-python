{
 "cells": [
  {
   "cell_type": "code",
   "execution_count": 1,
   "id": "a11d8282",
   "metadata": {
    "scrolled": true
   },
   "outputs": [],
   "source": [
    "import barcode\n",
    "from barcode.writer import ImageWriter"
   ]
  },
  {
   "cell_type": "code",
   "execution_count": 2,
   "id": "541d2395",
   "metadata": {},
   "outputs": [
    {
     "name": "stdout",
     "output_type": "stream",
     "text": [
      "Enter the code to generate barcode : 12345678901\n"
     ]
    }
   ],
   "source": [
    "#Define content of the barcode as a string\n",
    "number = input(\"Enter the code to generate barcode : \")"
   ]
  },
  {
   "cell_type": "code",
   "execution_count": 3,
   "id": "ede4d43f",
   "metadata": {
    "scrolled": false
   },
   "outputs": [],
   "source": [
    "#Get the required barcode format\n",
    "barcode_format = barcode.get_barcode_class('upc')"
   ]
  },
  {
   "cell_type": "code",
   "execution_count": 4,
   "id": "8ff7cce6",
   "metadata": {},
   "outputs": [],
   "source": [
    "#Generate barcode and render as image\n",
    "my_barcode = barcode_format(number, writer=ImageWriter())"
   ]
  },
  {
   "cell_type": "code",
   "execution_count": 5,
   "id": "7a701970",
   "metadata": {},
   "outputs": [
    {
     "data": {
      "text/plain": [
       "'generated_barcode.png'"
      ]
     },
     "execution_count": 5,
     "metadata": {},
     "output_type": "execute_result"
    }
   ],
   "source": [
    "#Save barcode as PNG\n",
    "my_barcode.save(\"generated_barcode\")"
   ]
  },
  {
   "cell_type": "code",
   "execution_count": null,
   "id": "fbae418c",
   "metadata": {},
   "outputs": [],
   "source": []
  },
  {
   "cell_type": "code",
   "execution_count": null,
   "id": "f0f101a3",
   "metadata": {},
   "outputs": [],
   "source": []
  },
  {
   "cell_type": "code",
   "execution_count": null,
   "id": "7fa694c0",
   "metadata": {},
   "outputs": [],
   "source": []
  },
  {
   "cell_type": "code",
   "execution_count": null,
   "id": "85d29c93",
   "metadata": {},
   "outputs": [],
   "source": []
  },
  {
   "cell_type": "code",
   "execution_count": null,
   "id": "50878016",
   "metadata": {},
   "outputs": [],
   "source": []
  },
  {
   "cell_type": "code",
   "execution_count": null,
   "id": "13b3056f",
   "metadata": {},
   "outputs": [],
   "source": []
  }
 ],
 "metadata": {
  "kernelspec": {
   "display_name": "Python 3 (ipykernel)",
   "language": "python",
   "name": "python3"
  },
  "language_info": {
   "codemirror_mode": {
    "name": "ipython",
    "version": 3
   },
   "file_extension": ".py",
   "mimetype": "text/x-python",
   "name": "python",
   "nbconvert_exporter": "python",
   "pygments_lexer": "ipython3",
   "version": "3.10.6"
  }
 },
 "nbformat": 4,
 "nbformat_minor": 5
}
